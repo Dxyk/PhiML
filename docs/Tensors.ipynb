{
 "cells": [
  {
   "cell_type": "markdown",
   "source": [
    "# Why Use UnifyML's Tensors\n",
    "\n",
    "Comparisons to native libraries.\n",
    "\n",
    "show easy-to-read, more concise, more explicit, less error-prone code"
   ],
   "metadata": {
    "collapsed": false,
    "pycharm": {
     "name": "#%% md\n"
    }
   }
  },
  {
   "cell_type": "code",
   "execution_count": null,
   "outputs": [],
   "source": [],
   "metadata": {
    "collapsed": false,
    "pycharm": {
     "name": "#%%\n"
    }
   }
  },
  {
   "cell_type": "markdown",
   "source": [
    "Addressing dimensions and slices by name instead of index makes code a lot more readable. This feature also exists in other frameworks to some extent but remains largely unused due to requiring more code.\n",
    "\n",
    "These additions make it possible for UnifyML to take care of reshaping operations under-the-hood.\n",
    "Another consequence is that the order of dimensions is irrelevant and operations such as [`stack`](https://holl-.github.io/UnifyML/unifyml/math/#unifyml.math.stack) do not require an index argument."
   ],
   "metadata": {
    "collapsed": false,
    "pycharm": {
     "name": "#%% md\n"
    }
   }
  },
  {
   "cell_type": "code",
   "execution_count": null,
   "outputs": [],
   "source": [],
   "metadata": {
    "collapsed": false,
    "pycharm": {
     "name": "#%%\n"
    }
   }
  }
 ],
 "metadata": {
  "kernelspec": {
   "display_name": "Python 3",
   "language": "python",
   "name": "python3"
  },
  "language_info": {
   "codemirror_mode": {
    "name": "ipython",
    "version": 2
   },
   "file_extension": ".py",
   "mimetype": "text/x-python",
   "name": "python",
   "nbconvert_exporter": "python",
   "pygments_lexer": "ipython2",
   "version": "2.7.6"
  }
 },
 "nbformat": 4,
 "nbformat_minor": 0
}